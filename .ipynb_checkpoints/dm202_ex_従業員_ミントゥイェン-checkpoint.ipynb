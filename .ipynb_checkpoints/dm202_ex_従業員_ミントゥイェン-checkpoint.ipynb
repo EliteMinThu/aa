{
 "cells": [
  {
   "cell_type": "markdown",
   "id": "c162d663-b025-475f-bc43-a7009bfe7cec",
   "metadata": {},
   "source": [
    "# 24ca0238_ミントゥイェン\n"
   ]
  },
  {
   "cell_type": "markdown",
   "id": "8089e992-a6f2-4088-8512-5915973a8e6f",
   "metadata": {},
   "source": [
    "# 従業員と部署のcsvファイルをpandasで読み込んでから、レコードの件数や欠損値を出力しました。\n"
   ]
  },
  {
   "cell_type": "code",
   "execution_count": 5,
   "id": "b6ded43d-1d37-427b-a4e7-9e031c4be709",
   "metadata": {},
   "outputs": [
    {
     "name": "stdout",
     "output_type": "stream",
     "text": [
      "<class 'pandas.core.frame.DataFrame'>\n",
      "RangeIndex: 14 entries, 0 to 13\n",
      "Data columns (total 8 columns):\n",
      " #   Column    Non-Null Count  Dtype  \n",
      "---  ------    --------------  -----  \n",
      " 0   EMPNO     14 non-null     int64  \n",
      " 1   ENAME     14 non-null     object \n",
      " 2   JOB       14 non-null     object \n",
      " 3   MGR       13 non-null     float64\n",
      " 4   HIREDATE  14 non-null     object \n",
      " 5   SAL       14 non-null     int64  \n",
      " 6   COMM      4 non-null      float64\n",
      " 7   DEPTNO    14 non-null     int64  \n",
      "dtypes: float64(2), int64(3), object(3)\n",
      "memory usage: 1.0+ KB\n",
      "<class 'pandas.core.frame.DataFrame'>\n",
      "RangeIndex: 4 entries, 0 to 3\n",
      "Data columns (total 3 columns):\n",
      " #   Column  Non-Null Count  Dtype \n",
      "---  ------  --------------  ----- \n",
      " 0   DEPTNO  4 non-null      int64 \n",
      " 1   DNAME   4 non-null      object\n",
      " 2   LOC     4 non-null      object\n",
      "dtypes: int64(1), object(2)\n",
      "memory usage: 224.0+ bytes\n"
     ]
    }
   ],
   "source": [
    "#1\n",
    "import numpy as np\n",
    "import matplotlib.pyplot as plt\n",
    "import pandas as pd\n",
    "import seaborn as sns\n",
    "sns.set()\n",
    "\n",
    "df1= pd.read_csv('従業員.csv')\n",
    "df2 = pd.read_csv('部署.csv')\n",
    "\n",
    "emp_df = pd.DataFrame(df1)\n",
    "dept_df = pd.DataFrame(df2)\n",
    "\n",
    "\n",
    "emp_df.info()\n",
    "dept_df.info()"
   ]
  },
  {
   "cell_type": "markdown",
   "id": "bd722dc5-58e7-424f-9ea6-deb8d681bf76",
   "metadata": {},
   "source": [
    "# 社員(emp_df)からEname,Salを出力しました。\n"
   ]
  },
  {
   "cell_type": "code",
   "execution_count": 6,
   "id": "07733112-7928-4305-8d52-98621f5606e4",
   "metadata": {},
   "outputs": [
    {
     "name": "stdout",
     "output_type": "stream",
     "text": [
      "     ENAME   SAL\n",
      "0    SMITH   800\n",
      "1    ALLEN  1600\n",
      "2     WARD  1250\n",
      "3    JONES  2975\n",
      "4   MARTIN  1250\n",
      "5    BLAKE  2850\n",
      "6    CLARK  2450\n",
      "7    SCOTT  3000\n",
      "8     KING  5000\n",
      "9   TURNER  1500\n",
      "10   ADAMS  1100\n",
      "11   JAMES   950\n",
      "12    FORD  3000\n",
      "13  MILLER  1300\n"
     ]
    }
   ],
   "source": [
    "#2\n",
    "print(emp_df.loc[:,['ENAME', 'SAL']])"
   ]
  },
  {
   "cell_type": "markdown",
   "id": "df49b77c-1dfd-43a5-ae17-605d31e36e67",
   "metadata": {},
   "source": [
    "# 社員(emp_df)から二つの社員番号を出力して、確認\n"
   ]
  },
  {
   "cell_type": "code",
   "execution_count": 7,
   "id": "69d0a488-737f-4485-a2ce-788eb3804f17",
   "metadata": {},
   "outputs": [
    {
     "name": "stdout",
     "output_type": "stream",
     "text": [
      "    EMPNO  ENAME       JOB     MGR   HIREDATE   SAL   COMM  DEPTNO\n",
      "1    7499  ALLEN  SALESMAN  7698.0  1981/2/20  1600  300.0      30\n",
      "10   7876  ADAMS     CLERK  7788.0  1987/5/23  1100    NaN      20\n"
     ]
    }
   ],
   "source": [
    "#3 \n",
    "print(emp_df[(emp_df['EMPNO']==7499) | (emp_df['EMPNO']==7876)])"
   ]
  },
  {
   "cell_type": "markdown",
   "id": "886e6a75-0b63-4b3c-b89e-0abe7480d465",
   "metadata": {},
   "source": [
    "# 社員(emp_df)と部署(dept_df)を結合(merge)を使用し、その中で、Empno,Ename,Deptno,Dnameを出力"
   ]
  },
  {
   "cell_type": "code",
   "execution_count": 4,
   "id": "1d8aa526-d4af-434c-86ad-ee1f29e7ad2b",
   "metadata": {},
   "outputs": [
    {
     "data": {
      "text/html": [
       "<div>\n",
       "<style scoped>\n",
       "    .dataframe tbody tr th:only-of-type {\n",
       "        vertical-align: middle;\n",
       "    }\n",
       "\n",
       "    .dataframe tbody tr th {\n",
       "        vertical-align: top;\n",
       "    }\n",
       "\n",
       "    .dataframe thead th {\n",
       "        text-align: right;\n",
       "    }\n",
       "</style>\n",
       "<table border=\"1\" class=\"dataframe\">\n",
       "  <thead>\n",
       "    <tr style=\"text-align: right;\">\n",
       "      <th></th>\n",
       "      <th>EMPNO</th>\n",
       "      <th>ENAME</th>\n",
       "      <th>DEPTNO</th>\n",
       "      <th>DNAME</th>\n",
       "    </tr>\n",
       "  </thead>\n",
       "  <tbody>\n",
       "    <tr>\n",
       "      <th>0</th>\n",
       "      <td>7369</td>\n",
       "      <td>SMITH</td>\n",
       "      <td>20</td>\n",
       "      <td>RESEARCH</td>\n",
       "    </tr>\n",
       "    <tr>\n",
       "      <th>1</th>\n",
       "      <td>7499</td>\n",
       "      <td>ALLEN</td>\n",
       "      <td>30</td>\n",
       "      <td>SALES</td>\n",
       "    </tr>\n",
       "    <tr>\n",
       "      <th>2</th>\n",
       "      <td>7521</td>\n",
       "      <td>WARD</td>\n",
       "      <td>30</td>\n",
       "      <td>SALES</td>\n",
       "    </tr>\n",
       "    <tr>\n",
       "      <th>3</th>\n",
       "      <td>7566</td>\n",
       "      <td>JONES</td>\n",
       "      <td>20</td>\n",
       "      <td>RESEARCH</td>\n",
       "    </tr>\n",
       "    <tr>\n",
       "      <th>4</th>\n",
       "      <td>7654</td>\n",
       "      <td>MARTIN</td>\n",
       "      <td>30</td>\n",
       "      <td>SALES</td>\n",
       "    </tr>\n",
       "    <tr>\n",
       "      <th>5</th>\n",
       "      <td>7698</td>\n",
       "      <td>BLAKE</td>\n",
       "      <td>30</td>\n",
       "      <td>SALES</td>\n",
       "    </tr>\n",
       "    <tr>\n",
       "      <th>6</th>\n",
       "      <td>7782</td>\n",
       "      <td>CLARK</td>\n",
       "      <td>10</td>\n",
       "      <td>ACCOUNTING</td>\n",
       "    </tr>\n",
       "    <tr>\n",
       "      <th>7</th>\n",
       "      <td>7788</td>\n",
       "      <td>SCOTT</td>\n",
       "      <td>20</td>\n",
       "      <td>RESEARCH</td>\n",
       "    </tr>\n",
       "    <tr>\n",
       "      <th>8</th>\n",
       "      <td>7839</td>\n",
       "      <td>KING</td>\n",
       "      <td>10</td>\n",
       "      <td>ACCOUNTING</td>\n",
       "    </tr>\n",
       "    <tr>\n",
       "      <th>9</th>\n",
       "      <td>7844</td>\n",
       "      <td>TURNER</td>\n",
       "      <td>30</td>\n",
       "      <td>SALES</td>\n",
       "    </tr>\n",
       "    <tr>\n",
       "      <th>10</th>\n",
       "      <td>7876</td>\n",
       "      <td>ADAMS</td>\n",
       "      <td>20</td>\n",
       "      <td>RESEARCH</td>\n",
       "    </tr>\n",
       "    <tr>\n",
       "      <th>11</th>\n",
       "      <td>7900</td>\n",
       "      <td>JAMES</td>\n",
       "      <td>30</td>\n",
       "      <td>SALES</td>\n",
       "    </tr>\n",
       "    <tr>\n",
       "      <th>12</th>\n",
       "      <td>7902</td>\n",
       "      <td>FORD</td>\n",
       "      <td>20</td>\n",
       "      <td>RESEARCH</td>\n",
       "    </tr>\n",
       "    <tr>\n",
       "      <th>13</th>\n",
       "      <td>7934</td>\n",
       "      <td>MILLER</td>\n",
       "      <td>10</td>\n",
       "      <td>ACCOUNTING</td>\n",
       "    </tr>\n",
       "  </tbody>\n",
       "</table>\n",
       "</div>"
      ],
      "text/plain": [
       "    EMPNO   ENAME  DEPTNO       DNAME\n",
       "0    7369   SMITH      20    RESEARCH\n",
       "1    7499   ALLEN      30       SALES\n",
       "2    7521    WARD      30       SALES\n",
       "3    7566   JONES      20    RESEARCH\n",
       "4    7654  MARTIN      30       SALES\n",
       "5    7698   BLAKE      30       SALES\n",
       "6    7782   CLARK      10  ACCOUNTING\n",
       "7    7788   SCOTT      20    RESEARCH\n",
       "8    7839    KING      10  ACCOUNTING\n",
       "9    7844  TURNER      30       SALES\n",
       "10   7876   ADAMS      20    RESEARCH\n",
       "11   7900   JAMES      30       SALES\n",
       "12   7902    FORD      20    RESEARCH\n",
       "13   7934  MILLER      10  ACCOUNTING"
      ]
     },
     "execution_count": 4,
     "metadata": {},
     "output_type": "execute_result"
    }
   ],
   "source": [
    "#4\n",
    "combine = pd.merge(emp_df, dept_df, on = 'DEPTNO', how = 'inner')\n",
    "combine.loc[:,['EMPNO', 'ENAME', 'DEPTNO', 'DNAME']]"
   ]
  },
  {
   "cell_type": "markdown",
   "id": "d3c4728b-fe9f-4852-8cde-635b2257eeb2",
   "metadata": {},
   "source": [
    "# 職種が SALESMAN ではない従業員の名前(ENAME)と職種(JOB)を出力しました。"
   ]
  },
  {
   "cell_type": "code",
   "execution_count": 5,
   "id": "6c79eeb7-23b7-491c-bdad-d961c0b1a734",
   "metadata": {},
   "outputs": [
    {
     "data": {
      "text/html": [
       "<div>\n",
       "<style scoped>\n",
       "    .dataframe tbody tr th:only-of-type {\n",
       "        vertical-align: middle;\n",
       "    }\n",
       "\n",
       "    .dataframe tbody tr th {\n",
       "        vertical-align: top;\n",
       "    }\n",
       "\n",
       "    .dataframe thead th {\n",
       "        text-align: right;\n",
       "    }\n",
       "</style>\n",
       "<table border=\"1\" class=\"dataframe\">\n",
       "  <thead>\n",
       "    <tr style=\"text-align: right;\">\n",
       "      <th></th>\n",
       "      <th>ENAME</th>\n",
       "      <th>JOB</th>\n",
       "    </tr>\n",
       "  </thead>\n",
       "  <tbody>\n",
       "    <tr>\n",
       "      <th>0</th>\n",
       "      <td>SMITH</td>\n",
       "      <td>CLERK</td>\n",
       "    </tr>\n",
       "    <tr>\n",
       "      <th>3</th>\n",
       "      <td>JONES</td>\n",
       "      <td>MANAGER</td>\n",
       "    </tr>\n",
       "    <tr>\n",
       "      <th>5</th>\n",
       "      <td>BLAKE</td>\n",
       "      <td>MANAGER</td>\n",
       "    </tr>\n",
       "    <tr>\n",
       "      <th>6</th>\n",
       "      <td>CLARK</td>\n",
       "      <td>MANAGER</td>\n",
       "    </tr>\n",
       "    <tr>\n",
       "      <th>7</th>\n",
       "      <td>SCOTT</td>\n",
       "      <td>ANALYST</td>\n",
       "    </tr>\n",
       "    <tr>\n",
       "      <th>8</th>\n",
       "      <td>KING</td>\n",
       "      <td>PRESIDENT</td>\n",
       "    </tr>\n",
       "    <tr>\n",
       "      <th>10</th>\n",
       "      <td>ADAMS</td>\n",
       "      <td>CLERK</td>\n",
       "    </tr>\n",
       "    <tr>\n",
       "      <th>11</th>\n",
       "      <td>JAMES</td>\n",
       "      <td>CLERK</td>\n",
       "    </tr>\n",
       "    <tr>\n",
       "      <th>12</th>\n",
       "      <td>FORD</td>\n",
       "      <td>ANALYST</td>\n",
       "    </tr>\n",
       "    <tr>\n",
       "      <th>13</th>\n",
       "      <td>MILLER</td>\n",
       "      <td>CLERK</td>\n",
       "    </tr>\n",
       "  </tbody>\n",
       "</table>\n",
       "</div>"
      ],
      "text/plain": [
       "     ENAME        JOB\n",
       "0    SMITH      CLERK\n",
       "3    JONES    MANAGER\n",
       "5    BLAKE    MANAGER\n",
       "6    CLARK    MANAGER\n",
       "7    SCOTT    ANALYST\n",
       "8     KING  PRESIDENT\n",
       "10   ADAMS      CLERK\n",
       "11   JAMES      CLERK\n",
       "12    FORD    ANALYST\n",
       "13  MILLER      CLERK"
      ]
     },
     "execution_count": 5,
     "metadata": {},
     "output_type": "execute_result"
    }
   ],
   "source": [
    "#5\n",
    "notSalesMan = emp_df.query('JOB != \"SALESMAN\"')\n",
    "notSalesMan.loc[:, ['ENAME', 'JOB']]"
   ]
  },
  {
   "cell_type": "markdown",
   "id": "924abe3b-3702-4641-aedf-7e637d326610",
   "metadata": {},
   "source": [
    "# 職種が CLERK で、入社日が1981年6月1日以降の従業員の名前、職種、入社日を抽出しました。"
   ]
  },
  {
   "cell_type": "code",
   "execution_count": 6,
   "id": "2c0c1a07-0152-4068-ab99-7f31dd19237c",
   "metadata": {},
   "outputs": [
    {
     "data": {
      "text/html": [
       "<div>\n",
       "<style scoped>\n",
       "    .dataframe tbody tr th:only-of-type {\n",
       "        vertical-align: middle;\n",
       "    }\n",
       "\n",
       "    .dataframe tbody tr th {\n",
       "        vertical-align: top;\n",
       "    }\n",
       "\n",
       "    .dataframe thead th {\n",
       "        text-align: right;\n",
       "    }\n",
       "</style>\n",
       "<table border=\"1\" class=\"dataframe\">\n",
       "  <thead>\n",
       "    <tr style=\"text-align: right;\">\n",
       "      <th></th>\n",
       "      <th>ENAME</th>\n",
       "      <th>JOB</th>\n",
       "      <th>HIREDATE</th>\n",
       "    </tr>\n",
       "  </thead>\n",
       "  <tbody>\n",
       "    <tr>\n",
       "      <th>10</th>\n",
       "      <td>ADAMS</td>\n",
       "      <td>CLERK</td>\n",
       "      <td>1987/5/23</td>\n",
       "    </tr>\n",
       "    <tr>\n",
       "      <th>11</th>\n",
       "      <td>JAMES</td>\n",
       "      <td>CLERK</td>\n",
       "      <td>1981/12/3</td>\n",
       "    </tr>\n",
       "    <tr>\n",
       "      <th>13</th>\n",
       "      <td>MILLER</td>\n",
       "      <td>CLERK</td>\n",
       "      <td>1982/1/23</td>\n",
       "    </tr>\n",
       "  </tbody>\n",
       "</table>\n",
       "</div>"
      ],
      "text/plain": [
       "     ENAME    JOB   HIREDATE\n",
       "10   ADAMS  CLERK  1987/5/23\n",
       "11   JAMES  CLERK  1981/12/3\n",
       "13  MILLER  CLERK  1982/1/23"
      ]
     },
     "execution_count": 6,
     "metadata": {},
     "output_type": "execute_result"
    }
   ],
   "source": [
    "#6\n",
    "oldSalaryMan = emp_df.query('JOB == \"CLERK\" and HIREDATE >= \"1981-06-01\"')\n",
    "oldSalaryMan.loc[:, ['ENAME', 'JOB', 'HIREDATE']]"
   ]
  },
  {
   "cell_type": "markdown",
   "id": "2065c4ac-b875-4c31-b871-d5f650090152",
   "metadata": {},
   "source": [
    "# 職種が MANAGER または ANALYST の従業員の名前と職種を抽出しました。"
   ]
  },
  {
   "cell_type": "code",
   "execution_count": 7,
   "id": "702638b2-1d3f-4898-aa1e-1dc959a30846",
   "metadata": {},
   "outputs": [
    {
     "data": {
      "text/html": [
       "<div>\n",
       "<style scoped>\n",
       "    .dataframe tbody tr th:only-of-type {\n",
       "        vertical-align: middle;\n",
       "    }\n",
       "\n",
       "    .dataframe tbody tr th {\n",
       "        vertical-align: top;\n",
       "    }\n",
       "\n",
       "    .dataframe thead th {\n",
       "        text-align: right;\n",
       "    }\n",
       "</style>\n",
       "<table border=\"1\" class=\"dataframe\">\n",
       "  <thead>\n",
       "    <tr style=\"text-align: right;\">\n",
       "      <th></th>\n",
       "      <th>ENAME</th>\n",
       "      <th>JOB</th>\n",
       "    </tr>\n",
       "  </thead>\n",
       "  <tbody>\n",
       "    <tr>\n",
       "      <th>3</th>\n",
       "      <td>JONES</td>\n",
       "      <td>MANAGER</td>\n",
       "    </tr>\n",
       "    <tr>\n",
       "      <th>5</th>\n",
       "      <td>BLAKE</td>\n",
       "      <td>MANAGER</td>\n",
       "    </tr>\n",
       "    <tr>\n",
       "      <th>6</th>\n",
       "      <td>CLARK</td>\n",
       "      <td>MANAGER</td>\n",
       "    </tr>\n",
       "    <tr>\n",
       "      <th>7</th>\n",
       "      <td>SCOTT</td>\n",
       "      <td>ANALYST</td>\n",
       "    </tr>\n",
       "    <tr>\n",
       "      <th>12</th>\n",
       "      <td>FORD</td>\n",
       "      <td>ANALYST</td>\n",
       "    </tr>\n",
       "  </tbody>\n",
       "</table>\n",
       "</div>"
      ],
      "text/plain": [
       "    ENAME      JOB\n",
       "3   JONES  MANAGER\n",
       "5   BLAKE  MANAGER\n",
       "6   CLARK  MANAGER\n",
       "7   SCOTT  ANALYST\n",
       "12   FORD  ANALYST"
      ]
     },
     "execution_count": 7,
     "metadata": {},
     "output_type": "execute_result"
    }
   ],
   "source": [
    "#7\n",
    "gerAnal = emp_df.query('JOB == \"MANAGER\" or JOB == \"ANALYST\"')\n",
    "gerAnal.loc[:, ['ENAME', 'JOB']]"
   ]
  },
  {
   "cell_type": "markdown",
   "id": "8f1dee18-53d2-462a-ab98-c60876cba5e0",
   "metadata": {},
   "source": [
    "# 職種が CLERK または部署番号(DEPTNO)が10の従業員を抽出し、 DEPTNOとJOB の順で昇順しました。\n"
   ]
  },
  {
   "cell_type": "code",
   "execution_count": 8,
   "id": "3e6f26d4-7af0-4827-8e55-b98d69c691ec",
   "metadata": {},
   "outputs": [
    {
     "data": {
      "text/html": [
       "<div>\n",
       "<style scoped>\n",
       "    .dataframe tbody tr th:only-of-type {\n",
       "        vertical-align: middle;\n",
       "    }\n",
       "\n",
       "    .dataframe tbody tr th {\n",
       "        vertical-align: top;\n",
       "    }\n",
       "\n",
       "    .dataframe thead th {\n",
       "        text-align: right;\n",
       "    }\n",
       "</style>\n",
       "<table border=\"1\" class=\"dataframe\">\n",
       "  <thead>\n",
       "    <tr style=\"text-align: right;\">\n",
       "      <th></th>\n",
       "      <th>ENAME</th>\n",
       "      <th>JOB</th>\n",
       "      <th>DEPTNO</th>\n",
       "    </tr>\n",
       "  </thead>\n",
       "  <tbody>\n",
       "    <tr>\n",
       "      <th>13</th>\n",
       "      <td>MILLER</td>\n",
       "      <td>CLERK</td>\n",
       "      <td>10</td>\n",
       "    </tr>\n",
       "    <tr>\n",
       "      <th>6</th>\n",
       "      <td>CLARK</td>\n",
       "      <td>MANAGER</td>\n",
       "      <td>10</td>\n",
       "    </tr>\n",
       "    <tr>\n",
       "      <th>8</th>\n",
       "      <td>KING</td>\n",
       "      <td>PRESIDENT</td>\n",
       "      <td>10</td>\n",
       "    </tr>\n",
       "    <tr>\n",
       "      <th>0</th>\n",
       "      <td>SMITH</td>\n",
       "      <td>CLERK</td>\n",
       "      <td>20</td>\n",
       "    </tr>\n",
       "    <tr>\n",
       "      <th>10</th>\n",
       "      <td>ADAMS</td>\n",
       "      <td>CLERK</td>\n",
       "      <td>20</td>\n",
       "    </tr>\n",
       "    <tr>\n",
       "      <th>11</th>\n",
       "      <td>JAMES</td>\n",
       "      <td>CLERK</td>\n",
       "      <td>30</td>\n",
       "    </tr>\n",
       "  </tbody>\n",
       "</table>\n",
       "</div>"
      ],
      "text/plain": [
       "     ENAME        JOB  DEPTNO\n",
       "13  MILLER      CLERK      10\n",
       "6    CLARK    MANAGER      10\n",
       "8     KING  PRESIDENT      10\n",
       "0    SMITH      CLERK      20\n",
       "10   ADAMS      CLERK      20\n",
       "11   JAMES      CLERK      30"
      ]
     },
     "execution_count": 8,
     "metadata": {},
     "output_type": "execute_result"
    }
   ],
   "source": [
    "#8\n",
    "clk10 = emp_df.query('JOB == \"CLERK\" or DEPTNO == 10')\n",
    "clk10[['ENAME', 'JOB', 'DEPTNO']].sort_values(by=['DEPTNO', 'JOB'])"
   ]
  },
  {
   "cell_type": "markdown",
   "id": "142ff5a6-6d42-4d5e-9ed4-e958bb027152",
   "metadata": {},
   "source": [
    "# 給与(SAL)が3000以上3100未満の従業員の名前(ENAME)と給与(SAL)を抽出しました。"
   ]
  },
  {
   "cell_type": "code",
   "execution_count": 9,
   "id": "cc46acbd-0d54-4b57-9859-8db451fcbaa9",
   "metadata": {},
   "outputs": [
    {
     "data": {
      "text/html": [
       "<div>\n",
       "<style scoped>\n",
       "    .dataframe tbody tr th:only-of-type {\n",
       "        vertical-align: middle;\n",
       "    }\n",
       "\n",
       "    .dataframe tbody tr th {\n",
       "        vertical-align: top;\n",
       "    }\n",
       "\n",
       "    .dataframe thead th {\n",
       "        text-align: right;\n",
       "    }\n",
       "</style>\n",
       "<table border=\"1\" class=\"dataframe\">\n",
       "  <thead>\n",
       "    <tr style=\"text-align: right;\">\n",
       "      <th></th>\n",
       "      <th>ENAME</th>\n",
       "      <th>SAL</th>\n",
       "    </tr>\n",
       "  </thead>\n",
       "  <tbody>\n",
       "    <tr>\n",
       "      <th>7</th>\n",
       "      <td>SCOTT</td>\n",
       "      <td>3000</td>\n",
       "    </tr>\n",
       "    <tr>\n",
       "      <th>12</th>\n",
       "      <td>FORD</td>\n",
       "      <td>3000</td>\n",
       "    </tr>\n",
       "  </tbody>\n",
       "</table>\n",
       "</div>"
      ],
      "text/plain": [
       "    ENAME   SAL\n",
       "7   SCOTT  3000\n",
       "12   FORD  3000"
      ]
     },
     "execution_count": 9,
     "metadata": {},
     "output_type": "execute_result"
    }
   ],
   "source": [
    "#9\n",
    "highSal = emp_df.query('SAL >= 3000 and SAL < 3100')\n",
    "highSal.loc[:, ['ENAME', 'SAL']]"
   ]
  },
  {
   "cell_type": "markdown",
   "id": "6aea0109-f11a-4e6e-8104-ba8a2d3a8b1d",
   "metadata": {},
   "source": [
    "# 名前が S で始まる従業員を抽出ました。"
   ]
  },
  {
   "cell_type": "code",
   "execution_count": 10,
   "id": "d0e047e0-7b9f-4a1b-9544-6e0fb6cc784f",
   "metadata": {},
   "outputs": [
    {
     "data": {
      "text/html": [
       "<div>\n",
       "<style scoped>\n",
       "    .dataframe tbody tr th:only-of-type {\n",
       "        vertical-align: middle;\n",
       "    }\n",
       "\n",
       "    .dataframe tbody tr th {\n",
       "        vertical-align: top;\n",
       "    }\n",
       "\n",
       "    .dataframe thead th {\n",
       "        text-align: right;\n",
       "    }\n",
       "</style>\n",
       "<table border=\"1\" class=\"dataframe\">\n",
       "  <thead>\n",
       "    <tr style=\"text-align: right;\">\n",
       "      <th></th>\n",
       "      <th>ENAME</th>\n",
       "    </tr>\n",
       "  </thead>\n",
       "  <tbody>\n",
       "    <tr>\n",
       "      <th>0</th>\n",
       "      <td>SMITH</td>\n",
       "    </tr>\n",
       "    <tr>\n",
       "      <th>7</th>\n",
       "      <td>SCOTT</td>\n",
       "    </tr>\n",
       "  </tbody>\n",
       "</table>\n",
       "</div>"
      ],
      "text/plain": [
       "   ENAME\n",
       "0  SMITH\n",
       "7  SCOTT"
      ]
     },
     "execution_count": 10,
     "metadata": {},
     "output_type": "execute_result"
    }
   ],
   "source": [
    "#10\n",
    "startS = emp_df[emp_df['ENAME'].str.startswith('S')]\n",
    "startS[['ENAME']]"
   ]
  },
  {
   "cell_type": "markdown",
   "id": "8a82fda5-7c50-40ff-974d-f59702f11224",
   "metadata": {},
   "source": [
    "# emp_df の SAL 列を更新しました。"
   ]
  },
  {
   "cell_type": "code",
   "execution_count": 11,
   "id": "1168a86e-69ba-4f02-ae33-03f76e6c3fe9",
   "metadata": {},
   "outputs": [
    {
     "name": "stdout",
     "output_type": "stream",
     "text": [
      "    EMPNO   ENAME        JOB     MGR    HIREDATE   SAL    COMM  DEPTNO\n",
      "0    7369   SMITH      CLERK  7902.0  1980/12/17  1000     NaN      20\n",
      "1    7499   ALLEN   SALESMAN  7698.0   1981/2/20  2000   300.0      30\n",
      "2    7521    WARD   SALESMAN  7698.0   1981/2/22  1000   500.0      30\n",
      "3    7566   JONES    MANAGER  7839.0    1981/4/2  3000     NaN      20\n",
      "4    7654  MARTIN   SALESMAN  7698.0   1981/9/28  1000  1400.0      30\n",
      "5    7698   BLAKE    MANAGER  7839.0    1981/5/1  3000     NaN      30\n",
      "6    7782   CLARK    MANAGER  7839.0    1981/6/9  2000     NaN      10\n",
      "7    7788   SCOTT    ANALYST  7566.0   1987/4/19  3000     NaN      20\n",
      "8    7839    KING  PRESIDENT     NaN  1981/11/17  5000     NaN      10\n",
      "9    7844  TURNER   SALESMAN  7698.0    1981/9/8  2000     0.0      30\n",
      "10   7876   ADAMS      CLERK  7788.0   1987/5/23  1000     NaN      20\n",
      "11   7900   JAMES      CLERK  7698.0   1981/12/3  1000     NaN      30\n",
      "12   7902    FORD    ANALYST  7566.0   1981/12/3  3000     NaN      20\n",
      "13   7934  MILLER      CLERK  7782.0   1982/1/23  1000     NaN      10\n"
     ]
    }
   ],
   "source": [
    "#11\n",
    "ssl = np.ceil(emp_df['SAL'] / 100) * 100\n",
    "\n",
    "emp_df['SAL'] = ssl.round(-3).astype(int)\n",
    "print(emp_df)"
   ]
  },
  {
   "cell_type": "markdown",
   "id": "d7f2730e-c06d-4edd-ae2e-39b27cec4819",
   "metadata": {},
   "source": [
    "# 従業員の給料SALの平均値を計算しました。"
   ]
  },
  {
   "cell_type": "code",
   "execution_count": 12,
   "id": "51dd901a-dfa6-44a4-b21f-f1ae9d3c354b",
   "metadata": {},
   "outputs": [
    {
     "name": "stdout",
     "output_type": "stream",
     "text": [
      "平均給料 : 2071.4285714285716\n"
     ]
    }
   ],
   "source": [
    "#12\n",
    "avgSal = emp_df['SAL'].mean()\n",
    "print(f'平均給料 : {avgSal}')"
   ]
  },
  {
   "cell_type": "markdown",
   "id": "36cfe2b0-5ac2-44a4-a600-ce04934968db",
   "metadata": {},
   "source": [
    "# COMM列に値が入っている従業員のデータを抽出しました。"
   ]
  },
  {
   "cell_type": "code",
   "execution_count": 13,
   "id": "468a820f-bb9f-4bac-804e-a08888ad6010",
   "metadata": {},
   "outputs": [
    {
     "data": {
      "text/html": [
       "<div>\n",
       "<style scoped>\n",
       "    .dataframe tbody tr th:only-of-type {\n",
       "        vertical-align: middle;\n",
       "    }\n",
       "\n",
       "    .dataframe tbody tr th {\n",
       "        vertical-align: top;\n",
       "    }\n",
       "\n",
       "    .dataframe thead th {\n",
       "        text-align: right;\n",
       "    }\n",
       "</style>\n",
       "<table border=\"1\" class=\"dataframe\">\n",
       "  <thead>\n",
       "    <tr style=\"text-align: right;\">\n",
       "      <th></th>\n",
       "      <th>EMPNO</th>\n",
       "      <th>ENAME</th>\n",
       "      <th>JOB</th>\n",
       "      <th>MGR</th>\n",
       "      <th>HIREDATE</th>\n",
       "      <th>SAL</th>\n",
       "      <th>COMM</th>\n",
       "      <th>DEPTNO</th>\n",
       "    </tr>\n",
       "  </thead>\n",
       "  <tbody>\n",
       "    <tr>\n",
       "      <th>1</th>\n",
       "      <td>7499</td>\n",
       "      <td>ALLEN</td>\n",
       "      <td>SALESMAN</td>\n",
       "      <td>7698.0</td>\n",
       "      <td>1981/2/20</td>\n",
       "      <td>2000</td>\n",
       "      <td>300.0</td>\n",
       "      <td>30</td>\n",
       "    </tr>\n",
       "    <tr>\n",
       "      <th>2</th>\n",
       "      <td>7521</td>\n",
       "      <td>WARD</td>\n",
       "      <td>SALESMAN</td>\n",
       "      <td>7698.0</td>\n",
       "      <td>1981/2/22</td>\n",
       "      <td>1000</td>\n",
       "      <td>500.0</td>\n",
       "      <td>30</td>\n",
       "    </tr>\n",
       "    <tr>\n",
       "      <th>4</th>\n",
       "      <td>7654</td>\n",
       "      <td>MARTIN</td>\n",
       "      <td>SALESMAN</td>\n",
       "      <td>7698.0</td>\n",
       "      <td>1981/9/28</td>\n",
       "      <td>1000</td>\n",
       "      <td>1400.0</td>\n",
       "      <td>30</td>\n",
       "    </tr>\n",
       "    <tr>\n",
       "      <th>9</th>\n",
       "      <td>7844</td>\n",
       "      <td>TURNER</td>\n",
       "      <td>SALESMAN</td>\n",
       "      <td>7698.0</td>\n",
       "      <td>1981/9/8</td>\n",
       "      <td>2000</td>\n",
       "      <td>0.0</td>\n",
       "      <td>30</td>\n",
       "    </tr>\n",
       "  </tbody>\n",
       "</table>\n",
       "</div>"
      ],
      "text/plain": [
       "   EMPNO   ENAME       JOB     MGR   HIREDATE   SAL    COMM  DEPTNO\n",
       "1   7499   ALLEN  SALESMAN  7698.0  1981/2/20  2000   300.0      30\n",
       "2   7521    WARD  SALESMAN  7698.0  1981/2/22  1000   500.0      30\n",
       "4   7654  MARTIN  SALESMAN  7698.0  1981/9/28  1000  1400.0      30\n",
       "9   7844  TURNER  SALESMAN  7698.0   1981/9/8  2000     0.0      30"
      ]
     },
     "execution_count": 13,
     "metadata": {},
     "output_type": "execute_result"
    }
   ],
   "source": [
    "#13\n",
    "noCom = emp_df[emp_df['COMM'].notnull()]\n",
    "noCom"
   ]
  }
 ],
 "metadata": {
  "kernelspec": {
   "display_name": "Python 3 (ipykernel)",
   "language": "python",
   "name": "python3"
  },
  "language_info": {
   "codemirror_mode": {
    "name": "ipython",
    "version": 3
   },
   "file_extension": ".py",
   "mimetype": "text/x-python",
   "name": "python",
   "nbconvert_exporter": "python",
   "pygments_lexer": "ipython3",
   "version": "3.9.18"
  }
 },
 "nbformat": 4,
 "nbformat_minor": 5
}
